{
 "cells": [
  {
   "cell_type": "markdown",
   "metadata": {},
   "source": [
    "<font size=\"5\">Reddit Sentiment Analysis</font>"
   ]
  },
  {
   "cell_type": "code",
   "execution_count": 1,
   "metadata": {},
   "outputs": [],
   "source": [
    "import pandas as pd\n",
    "import numpy as np\n",
    "import re\n",
    "import matplotlib.pyplot as plt\n",
    "from ipywidgets import interact, FloatSlider\n",
    "import matplotlib.pyplot as plt\n",
    "import numpy as np"
   ]
  },
  {
   "cell_type": "code",
   "execution_count": 2,
   "metadata": {},
   "outputs": [
    {
     "data": {
      "text/html": [
       "<div>\n",
       "<style scoped>\n",
       "    .dataframe tbody tr th:only-of-type {\n",
       "        vertical-align: middle;\n",
       "    }\n",
       "\n",
       "    .dataframe tbody tr th {\n",
       "        vertical-align: top;\n",
       "    }\n",
       "\n",
       "    .dataframe thead th {\n",
       "        text-align: right;\n",
       "    }\n",
       "</style>\n",
       "<table border=\"1\" class=\"dataframe\">\n",
       "  <thead>\n",
       "    <tr style=\"text-align: right;\">\n",
       "      <th></th>\n",
       "      <th>id</th>\n",
       "      <th>timestamp</th>\n",
       "      <th>title</th>\n",
       "      <th>body</th>\n",
       "      <th>edited</th>\n",
       "      <th>verdict</th>\n",
       "      <th>score</th>\n",
       "      <th>num_comments</th>\n",
       "      <th>is_asshole</th>\n",
       "    </tr>\n",
       "  </thead>\n",
       "  <tbody>\n",
       "    <tr>\n",
       "      <th>0</th>\n",
       "      <td>1ytxov</td>\n",
       "      <td>1.393279e+09</td>\n",
       "      <td>[AITA] I wrote an explanation in TIL and came ...</td>\n",
       "      <td>[Here is the post in question](http://www.redd...</td>\n",
       "      <td>False</td>\n",
       "      <td>asshole</td>\n",
       "      <td>52</td>\n",
       "      <td>13.0</td>\n",
       "      <td>1</td>\n",
       "    </tr>\n",
       "    <tr>\n",
       "      <th>1</th>\n",
       "      <td>1yu29c</td>\n",
       "      <td>1.393281e+09</td>\n",
       "      <td>[AITA] Threw my parent's donuts away</td>\n",
       "      <td>My parents are diabetic, morbidly obese, and a...</td>\n",
       "      <td>1393290576.0</td>\n",
       "      <td>asshole</td>\n",
       "      <td>140</td>\n",
       "      <td>27.0</td>\n",
       "      <td>1</td>\n",
       "    </tr>\n",
       "    <tr>\n",
       "      <th>2</th>\n",
       "      <td>1yu8hi</td>\n",
       "      <td>1.393285e+09</td>\n",
       "      <td>I told a goth girl she looked like a clown.</td>\n",
       "      <td>I was four.</td>\n",
       "      <td>False</td>\n",
       "      <td>not the asshole</td>\n",
       "      <td>74</td>\n",
       "      <td>15.0</td>\n",
       "      <td>0</td>\n",
       "    </tr>\n",
       "    <tr>\n",
       "      <th>3</th>\n",
       "      <td>1yuc78</td>\n",
       "      <td>1.393287e+09</td>\n",
       "      <td>[AItA]: Argument I had with another redditor i...</td>\n",
       "      <td>http://www.reddit.com/r/HIMYM/comments/1vvfkq/...</td>\n",
       "      <td>1393286962.0</td>\n",
       "      <td>everyone sucks</td>\n",
       "      <td>22</td>\n",
       "      <td>3.0</td>\n",
       "      <td>1</td>\n",
       "    </tr>\n",
       "    <tr>\n",
       "      <th>4</th>\n",
       "      <td>1yueqb</td>\n",
       "      <td>1.393288e+09</td>\n",
       "      <td>[AITA] I let my story get a little long and bo...</td>\n",
       "      <td></td>\n",
       "      <td>False</td>\n",
       "      <td>not the asshole</td>\n",
       "      <td>6</td>\n",
       "      <td>4.0</td>\n",
       "      <td>0</td>\n",
       "    </tr>\n",
       "    <tr>\n",
       "      <th>...</th>\n",
       "      <td>...</td>\n",
       "      <td>...</td>\n",
       "      <td>...</td>\n",
       "      <td>...</td>\n",
       "      <td>...</td>\n",
       "      <td>...</td>\n",
       "      <td>...</td>\n",
       "      <td>...</td>\n",
       "      <td>...</td>\n",
       "    </tr>\n",
       "    <tr>\n",
       "      <th>97623</th>\n",
       "      <td>ex94w5</td>\n",
       "      <td>1.580577e+09</td>\n",
       "      <td>AITA for telling my sister she is being a spoi...</td>\n",
       "      <td>My sister(17F) and I(15M) are white kids born ...</td>\n",
       "      <td>1580585457.0</td>\n",
       "      <td>not the asshole</td>\n",
       "      <td>16</td>\n",
       "      <td>23.0</td>\n",
       "      <td>0</td>\n",
       "    </tr>\n",
       "    <tr>\n",
       "      <th>97624</th>\n",
       "      <td>ex970f</td>\n",
       "      <td>1.580577e+09</td>\n",
       "      <td>AITA for telling my husband to f* off after he...</td>\n",
       "      <td>My husband (28M) and I (32F) are married for a...</td>\n",
       "      <td>1580584475.0</td>\n",
       "      <td>not the asshole</td>\n",
       "      <td>1373</td>\n",
       "      <td>304.0</td>\n",
       "      <td>0</td>\n",
       "    </tr>\n",
       "    <tr>\n",
       "      <th>97625</th>\n",
       "      <td>ex9dwo</td>\n",
       "      <td>1.580578e+09</td>\n",
       "      <td>AITA for attempting to keep my students out of...</td>\n",
       "      <td>Upfront apologies for formatting. I’m also try...</td>\n",
       "      <td>False</td>\n",
       "      <td>not the asshole</td>\n",
       "      <td>4</td>\n",
       "      <td>15.0</td>\n",
       "      <td>0</td>\n",
       "    </tr>\n",
       "    <tr>\n",
       "      <th>97626</th>\n",
       "      <td>ex9egs</td>\n",
       "      <td>1.580578e+09</td>\n",
       "      <td>WIBTA if I left my brothers fate up to the state?</td>\n",
       "      <td>A little back story my mom is a drug addict an...</td>\n",
       "      <td>False</td>\n",
       "      <td>not the asshole</td>\n",
       "      <td>280</td>\n",
       "      <td>140.0</td>\n",
       "      <td>0</td>\n",
       "    </tr>\n",
       "    <tr>\n",
       "      <th>97627</th>\n",
       "      <td>ex9g78</td>\n",
       "      <td>1.580578e+09</td>\n",
       "      <td>WIBTA for rocking the boat at work because my ...</td>\n",
       "      <td>I’m a (23F) apprentice in the trades. I work o...</td>\n",
       "      <td>False</td>\n",
       "      <td>not the asshole</td>\n",
       "      <td>5</td>\n",
       "      <td>21.0</td>\n",
       "      <td>0</td>\n",
       "    </tr>\n",
       "  </tbody>\n",
       "</table>\n",
       "<p>97628 rows × 9 columns</p>\n",
       "</div>"
      ],
      "text/plain": [
       "           id     timestamp  \\\n",
       "0      1ytxov  1.393279e+09   \n",
       "1      1yu29c  1.393281e+09   \n",
       "2      1yu8hi  1.393285e+09   \n",
       "3      1yuc78  1.393287e+09   \n",
       "4      1yueqb  1.393288e+09   \n",
       "...       ...           ...   \n",
       "97623  ex94w5  1.580577e+09   \n",
       "97624  ex970f  1.580577e+09   \n",
       "97625  ex9dwo  1.580578e+09   \n",
       "97626  ex9egs  1.580578e+09   \n",
       "97627  ex9g78  1.580578e+09   \n",
       "\n",
       "                                                   title  \\\n",
       "0      [AITA] I wrote an explanation in TIL and came ...   \n",
       "1                   [AITA] Threw my parent's donuts away   \n",
       "2            I told a goth girl she looked like a clown.   \n",
       "3      [AItA]: Argument I had with another redditor i...   \n",
       "4      [AITA] I let my story get a little long and bo...   \n",
       "...                                                  ...   \n",
       "97623  AITA for telling my sister she is being a spoi...   \n",
       "97624  AITA for telling my husband to f* off after he...   \n",
       "97625  AITA for attempting to keep my students out of...   \n",
       "97626  WIBTA if I left my brothers fate up to the state?   \n",
       "97627  WIBTA for rocking the boat at work because my ...   \n",
       "\n",
       "                                                    body        edited  \\\n",
       "0      [Here is the post in question](http://www.redd...         False   \n",
       "1      My parents are diabetic, morbidly obese, and a...  1393290576.0   \n",
       "2                                            I was four.         False   \n",
       "3      http://www.reddit.com/r/HIMYM/comments/1vvfkq/...  1393286962.0   \n",
       "4                                                                False   \n",
       "...                                                  ...           ...   \n",
       "97623  My sister(17F) and I(15M) are white kids born ...  1580585457.0   \n",
       "97624  My husband (28M) and I (32F) are married for a...  1580584475.0   \n",
       "97625  Upfront apologies for formatting. I’m also try...         False   \n",
       "97626  A little back story my mom is a drug addict an...         False   \n",
       "97627  I’m a (23F) apprentice in the trades. I work o...         False   \n",
       "\n",
       "               verdict  score  num_comments  is_asshole  \n",
       "0              asshole     52          13.0           1  \n",
       "1              asshole    140          27.0           1  \n",
       "2      not the asshole     74          15.0           0  \n",
       "3       everyone sucks     22           3.0           1  \n",
       "4      not the asshole      6           4.0           0  \n",
       "...                ...    ...           ...         ...  \n",
       "97623  not the asshole     16          23.0           0  \n",
       "97624  not the asshole   1373         304.0           0  \n",
       "97625  not the asshole      4          15.0           0  \n",
       "97626  not the asshole    280         140.0           0  \n",
       "97627  not the asshole      5          21.0           0  \n",
       "\n",
       "[97628 rows x 9 columns]"
      ]
     },
     "execution_count": 2,
     "metadata": {},
     "output_type": "execute_result"
    }
   ],
   "source": [
    "df = pd.read_csv(\"aita_clean.csv\") #By Elle O'Brien\n",
    "df[\"body\"].fillna(\"\", inplace = True)\n",
    "df"
   ]
  },
  {
   "cell_type": "code",
   "execution_count": 3,
   "metadata": {},
   "outputs": [
    {
     "data": {
      "text/html": [
       "<div>\n",
       "<style scoped>\n",
       "    .dataframe tbody tr th:only-of-type {\n",
       "        vertical-align: middle;\n",
       "    }\n",
       "\n",
       "    .dataframe tbody tr th {\n",
       "        vertical-align: top;\n",
       "    }\n",
       "\n",
       "    .dataframe thead th {\n",
       "        text-align: right;\n",
       "    }\n",
       "</style>\n",
       "<table border=\"1\" class=\"dataframe\">\n",
       "  <thead>\n",
       "    <tr style=\"text-align: right;\">\n",
       "      <th></th>\n",
       "      <th>Label</th>\n",
       "      <th>Proportion</th>\n",
       "    </tr>\n",
       "  </thead>\n",
       "  <tbody>\n",
       "    <tr>\n",
       "      <th>0</th>\n",
       "      <td>A-hole</td>\n",
       "      <td>0.27</td>\n",
       "    </tr>\n",
       "    <tr>\n",
       "      <th>1</th>\n",
       "      <td>Not A-hole</td>\n",
       "      <td>0.73</td>\n",
       "    </tr>\n",
       "  </tbody>\n",
       "</table>\n",
       "</div>"
      ],
      "text/plain": [
       "        Label  Proportion\n",
       "0      A-hole        0.27\n",
       "1  Not A-hole        0.73"
      ]
     },
     "execution_count": 3,
     "metadata": {},
     "output_type": "execute_result"
    }
   ],
   "source": [
    "p = np.mean(df['is_asshole']) #how many of these posts were assholes proportionally\n",
    "data = {\"Label\": [\"A-hole\", \"Not A-hole\"], \"Proportion\": [p, 1-p]} #Label\n",
    "pd.DataFrame(data).round(2)  "
   ]
  },
  {
   "cell_type": "code",
   "execution_count": 4,
   "metadata": {},
   "outputs": [],
   "source": [
    "df[\"date\"] = pd.to_datetime(df[\"timestamp\"], unit=\"s\")\n",
    "df[\"month\"] = pd.DatetimeIndex(df[\"date\"]).month"
   ]
  },
  {
   "cell_type": "code",
   "execution_count": 5,
   "metadata": {},
   "outputs": [
    {
     "data": {
      "text/html": [
       "<div>\n",
       "<style scoped>\n",
       "    .dataframe tbody tr th:only-of-type {\n",
       "        vertical-align: middle;\n",
       "    }\n",
       "\n",
       "    .dataframe tbody tr th {\n",
       "        vertical-align: top;\n",
       "    }\n",
       "\n",
       "    .dataframe thead th {\n",
       "        text-align: right;\n",
       "    }\n",
       "</style>\n",
       "<table border=\"1\" class=\"dataframe\">\n",
       "  <thead>\n",
       "    <tr style=\"text-align: right;\">\n",
       "      <th></th>\n",
       "      <th>month</th>\n",
       "      <th>mean</th>\n",
       "      <th>size</th>\n",
       "    </tr>\n",
       "  </thead>\n",
       "  <tbody>\n",
       "    <tr>\n",
       "      <th>0</th>\n",
       "      <td>1</td>\n",
       "      <td>0.261313</td>\n",
       "      <td>11867</td>\n",
       "    </tr>\n",
       "    <tr>\n",
       "      <th>1</th>\n",
       "      <td>2</td>\n",
       "      <td>0.253683</td>\n",
       "      <td>4616</td>\n",
       "    </tr>\n",
       "    <tr>\n",
       "      <th>2</th>\n",
       "      <td>3</td>\n",
       "      <td>0.280572</td>\n",
       "      <td>6640</td>\n",
       "    </tr>\n",
       "    <tr>\n",
       "      <th>3</th>\n",
       "      <td>4</td>\n",
       "      <td>0.259947</td>\n",
       "      <td>6786</td>\n",
       "    </tr>\n",
       "    <tr>\n",
       "      <th>4</th>\n",
       "      <td>5</td>\n",
       "      <td>0.276957</td>\n",
       "      <td>6705</td>\n",
       "    </tr>\n",
       "    <tr>\n",
       "      <th>5</th>\n",
       "      <td>6</td>\n",
       "      <td>0.269114</td>\n",
       "      <td>7246</td>\n",
       "    </tr>\n",
       "    <tr>\n",
       "      <th>6</th>\n",
       "      <td>7</td>\n",
       "      <td>0.270262</td>\n",
       "      <td>9513</td>\n",
       "    </tr>\n",
       "    <tr>\n",
       "      <th>7</th>\n",
       "      <td>8</td>\n",
       "      <td>0.272497</td>\n",
       "      <td>8701</td>\n",
       "    </tr>\n",
       "    <tr>\n",
       "      <th>8</th>\n",
       "      <td>9</td>\n",
       "      <td>0.286528</td>\n",
       "      <td>7371</td>\n",
       "    </tr>\n",
       "    <tr>\n",
       "      <th>9</th>\n",
       "      <td>10</td>\n",
       "      <td>0.293180</td>\n",
       "      <td>8343</td>\n",
       "    </tr>\n",
       "    <tr>\n",
       "      <th>10</th>\n",
       "      <td>11</td>\n",
       "      <td>0.273898</td>\n",
       "      <td>9007</td>\n",
       "    </tr>\n",
       "    <tr>\n",
       "      <th>11</th>\n",
       "      <td>12</td>\n",
       "      <td>0.261977</td>\n",
       "      <td>10833</td>\n",
       "    </tr>\n",
       "  </tbody>\n",
       "</table>\n",
       "</div>"
      ],
      "text/plain": [
       "    month      mean   size\n",
       "0       1  0.261313  11867\n",
       "1       2  0.253683   4616\n",
       "2       3  0.280572   6640\n",
       "3       4  0.259947   6786\n",
       "4       5  0.276957   6705\n",
       "5       6  0.269114   7246\n",
       "6       7  0.270262   9513\n",
       "7       8  0.272497   8701\n",
       "8       9  0.286528   7371\n",
       "9      10  0.293180   8343\n",
       "10     11  0.273898   9007\n",
       "11     12  0.261977  10833"
      ]
     },
     "execution_count": 5,
     "metadata": {},
     "output_type": "execute_result"
    }
   ],
   "source": [
    "dfd = (df[[\"month\", \"is_asshole\"]]\n",
    "       .groupby(\"month\", as_index = False)\n",
    "       .aggregate(mean = (\"is_asshole\", np.mean),\n",
    "                  size = (\"is_asshole\", np.size)))\n",
    "dfd"
   ]
  },
  {
   "cell_type": "code",
   "execution_count": 6,
   "metadata": {},
   "outputs": [
    {
     "data": {
      "text/plain": [
       "Text(0.5, 1.0, 'Reddit A-holes Throughout the Year')"
      ]
     },
     "execution_count": 6,
     "metadata": {},
     "output_type": "execute_result"
    },
    {
     "data": {
      "image/png": "[encoded data removed]",
      "text/plain": [
       "<Figure size 640x480 with 1 Axes>"
      ]
     },
     "metadata": {},
     "output_type": "display_data"
    }
   ],
   "source": [
    "plt.scatter(dfd[\"month\"], dfd[\"mean\"]);\n",
    "plt.plot(dfd[\"month\"], dfd[\"mean\"])\n",
    "plt.xticks(ticks = [1,2,3,4,5,6,7,8,9,10,11,12], labels=[\"Jan.\", \"Feb.\", \"Mar.\", \"Apr.\", \"May\", \"June\", \"July\", \"Aug.\", \"Sept.\", \"Oct.\", \"Nov.\", \"Dec.\"])\n",
    "plt.xlabel(\"Month\")\n",
    "plt.ylabel(\"Likelihood of being A-Hole\")\n",
    "plt.title(\"Reddit A-holes Throughout the Year\")"
   ]
  },
  {
   "cell_type": "code",
   "execution_count": 7,
   "metadata": {},
   "outputs": [
    {
     "data": {
      "text/html": [
       "<div>\n",
       "<style scoped>\n",
       "    .dataframe tbody tr th:only-of-type {\n",
       "        vertical-align: middle;\n",
       "    }\n",
       "\n",
       "    .dataframe tbody tr th {\n",
       "        vertical-align: top;\n",
       "    }\n",
       "\n",
       "    .dataframe thead th {\n",
       "        text-align: right;\n",
       "    }\n",
       "</style>\n",
       "<table border=\"1\" class=\"dataframe\">\n",
       "  <thead>\n",
       "    <tr style=\"text-align: right;\">\n",
       "      <th></th>\n",
       "      <th>Words</th>\n",
       "    </tr>\n",
       "  </thead>\n",
       "  <tbody>\n",
       "    <tr>\n",
       "      <th>0</th>\n",
       "      <td>a+</td>\n",
       "    </tr>\n",
       "    <tr>\n",
       "      <th>1</th>\n",
       "      <td>abound</td>\n",
       "    </tr>\n",
       "    <tr>\n",
       "      <th>2</th>\n",
       "      <td>abounds</td>\n",
       "    </tr>\n",
       "    <tr>\n",
       "      <th>3</th>\n",
       "      <td>abundance</td>\n",
       "    </tr>\n",
       "    <tr>\n",
       "      <th>4</th>\n",
       "      <td>abundant</td>\n",
       "    </tr>\n",
       "    <tr>\n",
       "      <th>...</th>\n",
       "      <td>...</td>\n",
       "    </tr>\n",
       "    <tr>\n",
       "      <th>2001</th>\n",
       "      <td>youthful</td>\n",
       "    </tr>\n",
       "    <tr>\n",
       "      <th>2002</th>\n",
       "      <td>zeal</td>\n",
       "    </tr>\n",
       "    <tr>\n",
       "      <th>2003</th>\n",
       "      <td>zenith</td>\n",
       "    </tr>\n",
       "    <tr>\n",
       "      <th>2004</th>\n",
       "      <td>zest</td>\n",
       "    </tr>\n",
       "    <tr>\n",
       "      <th>2005</th>\n",
       "      <td>zippy</td>\n",
       "    </tr>\n",
       "  </tbody>\n",
       "</table>\n",
       "<p>2006 rows × 1 columns</p>\n",
       "</div>"
      ],
      "text/plain": [
       "          Words\n",
       "0            a+\n",
       "1        abound\n",
       "2       abounds\n",
       "3     abundance\n",
       "4      abundant\n",
       "...         ...\n",
       "2001   youthful\n",
       "2002       zeal\n",
       "2003     zenith\n",
       "2004       zest\n",
       "2005      zippy\n",
       "\n",
       "[2006 rows x 1 columns]"
      ]
     },
     "execution_count": 7,
     "metadata": {},
     "output_type": "execute_result"
    }
   ],
   "source": [
    "dfp = pd.read_csv(\"positive-words.csv\") #By Mkulakowski2\n",
    "dfn = pd.read_csv(\"negative-words.csv\")\n",
    "dfp"
   ]
  },
  {
   "cell_type": "code",
   "execution_count": 8,
   "metadata": {},
   "outputs": [
    {
     "data": {
      "text/html": [
       "<div>\n",
       "<style scoped>\n",
       "    .dataframe tbody tr th:only-of-type {\n",
       "        vertical-align: middle;\n",
       "    }\n",
       "\n",
       "    .dataframe tbody tr th {\n",
       "        vertical-align: top;\n",
       "    }\n",
       "\n",
       "    .dataframe thead th {\n",
       "        text-align: right;\n",
       "    }\n",
       "</style>\n",
       "<table border=\"1\" class=\"dataframe\">\n",
       "  <thead>\n",
       "    <tr style=\"text-align: right;\">\n",
       "      <th></th>\n",
       "      <th>Words</th>\n",
       "    </tr>\n",
       "  </thead>\n",
       "  <tbody>\n",
       "    <tr>\n",
       "      <th>0</th>\n",
       "      <td>2-faced</td>\n",
       "    </tr>\n",
       "    <tr>\n",
       "      <th>1</th>\n",
       "      <td>2-faces</td>\n",
       "    </tr>\n",
       "    <tr>\n",
       "      <th>2</th>\n",
       "      <td>abnormal</td>\n",
       "    </tr>\n",
       "    <tr>\n",
       "      <th>3</th>\n",
       "      <td>abolish</td>\n",
       "    </tr>\n",
       "    <tr>\n",
       "      <th>4</th>\n",
       "      <td>abominable</td>\n",
       "    </tr>\n",
       "    <tr>\n",
       "      <th>...</th>\n",
       "      <td>...</td>\n",
       "    </tr>\n",
       "    <tr>\n",
       "      <th>4778</th>\n",
       "      <td>zaps</td>\n",
       "    </tr>\n",
       "    <tr>\n",
       "      <th>4779</th>\n",
       "      <td>zealot</td>\n",
       "    </tr>\n",
       "    <tr>\n",
       "      <th>4780</th>\n",
       "      <td>zealous</td>\n",
       "    </tr>\n",
       "    <tr>\n",
       "      <th>4781</th>\n",
       "      <td>zealously</td>\n",
       "    </tr>\n",
       "    <tr>\n",
       "      <th>4782</th>\n",
       "      <td>zombie</td>\n",
       "    </tr>\n",
       "  </tbody>\n",
       "</table>\n",
       "<p>4783 rows × 1 columns</p>\n",
       "</div>"
      ],
      "text/plain": [
       "           Words\n",
       "0        2-faced\n",
       "1        2-faces\n",
       "2       abnormal\n",
       "3        abolish\n",
       "4     abominable\n",
       "...          ...\n",
       "4778        zaps\n",
       "4779      zealot\n",
       "4780     zealous\n",
       "4781   zealously\n",
       "4782      zombie\n",
       "\n",
       "[4783 rows x 1 columns]"
      ]
     },
     "execution_count": 8,
     "metadata": {},
     "output_type": "execute_result"
    }
   ],
   "source": [
    "dfn"
   ]
  },
  {
   "cell_type": "markdown",
   "metadata": {},
   "source": [
    "Now we will take a randomized sample of 20 words from both the \"positive\" and \"negative\" dataset."
   ]
  },
  {
   "cell_type": "code",
   "execution_count": 9,
   "metadata": {},
   "outputs": [],
   "source": [
    "n_sample = dfn.sample(n = 20)\n",
    "p_sample = dfp.sample(n = 20)"
   ]
  },
  {
   "cell_type": "markdown",
   "metadata": {},
   "source": [
    "Get a list of just the words from each \"Words\" column. We'll make sure they're ready to be used\n",
    "in Regex fashion as well"
   ]
  },
  {
   "cell_type": "code",
   "execution_count": 10,
   "metadata": {},
   "outputs": [],
   "source": [
    "positive_list = p_sample[\"Words\"].tolist()\n",
    "negative_list = n_sample[\"Words\"].tolist()\n",
    "p_string = '|'.join(positive_list)\n",
    "n_string = '|'.join(negative_list)\n",
    "n = re.compile(n_string)\n",
    "p = re.compile(p_string)\n",
    "p_match = df[\"body\"].str.contains(p, regex=True)\n",
    "n_match = df[\"body\"].str.contains(n, regex=True)"
   ]
  },
  {
   "cell_type": "code",
   "execution_count": 11,
   "metadata": {},
   "outputs": [
    {
     "data": {
      "text/plain": [
       "0.27"
      ]
     },
     "execution_count": 11,
     "metadata": {},
     "output_type": "execute_result"
    }
   ],
   "source": [
    "p_proportion = df[\"is_asshole\"] == 1\n",
    "np.round(np.sum(np.logical_and(p_proportion, p_match)) / np.sum(p_match), 2) #Test case #.34 #.32"
   ]
  },
  {
   "cell_type": "code",
   "execution_count": 12,
   "metadata": {},
   "outputs": [
    {
     "data": {
      "text/plain": [
       "0.26"
      ]
     },
     "execution_count": 12,
     "metadata": {},
     "output_type": "execute_result"
    }
   ],
   "source": [
    "n_proportion = df[\"is_asshole\"] == 1\n",
    "np.round(np.sum(np.logical_and(n_proportion, n_match)) / np.sum(n_match), 2)"
   ]
  },
  {
   "cell_type": "markdown",
   "metadata": {},
   "source": [
    "The overall proportion was a .27 and this is roughly the same, therefore the correlation is minimal if there is one at all. There are some other factors we can test, so let's test the number of characters in a post instead. The idea here is perhaps longer posts come off as ranting or more irritable, alternatively they could be better explained and seemingly less petty."
   ]
  },
  {
   "cell_type": "code",
   "execution_count": 13,
   "metadata": {},
   "outputs": [],
   "source": [
    "newdf = df[df[\"body\"].apply(lambda x: len(x) > 15000)]"
   ]
  },
  {
   "cell_type": "code",
   "execution_count": 14,
   "metadata": {},
   "outputs": [
    {
     "data": {
      "text/html": [
       "<div>\n",
       "<style scoped>\n",
       "    .dataframe tbody tr th:only-of-type {\n",
       "        vertical-align: middle;\n",
       "    }\n",
       "\n",
       "    .dataframe tbody tr th {\n",
       "        vertical-align: top;\n",
       "    }\n",
       "\n",
       "    .dataframe thead th {\n",
       "        text-align: right;\n",
       "    }\n",
       "</style>\n",
       "<table border=\"1\" class=\"dataframe\">\n",
       "  <thead>\n",
       "    <tr style=\"text-align: right;\">\n",
       "      <th></th>\n",
       "      <th>Label</th>\n",
       "      <th>Proportion</th>\n",
       "    </tr>\n",
       "  </thead>\n",
       "  <tbody>\n",
       "    <tr>\n",
       "      <th>0</th>\n",
       "      <td>A-hole</td>\n",
       "      <td>0.43</td>\n",
       "    </tr>\n",
       "    <tr>\n",
       "      <th>1</th>\n",
       "      <td>Not A-hole</td>\n",
       "      <td>0.57</td>\n",
       "    </tr>\n",
       "  </tbody>\n",
       "</table>\n",
       "</div>"
      ],
      "text/plain": [
       "        Label  Proportion\n",
       "0      A-hole        0.43\n",
       "1  Not A-hole        0.57"
      ]
     },
     "execution_count": 14,
     "metadata": {},
     "output_type": "execute_result"
    }
   ],
   "source": [
    "newp = np.mean(newdf['is_asshole']) \n",
    "data = {\"Label\": [\"A-hole\", \"Not A-hole\"], \"Proportion\": [newp, 1-newp]}\n",
    "newp_df = pd.DataFrame(data).round(2) \n",
    "newp_df"
   ]
  },
  {
   "cell_type": "code",
   "execution_count": 15,
   "metadata": {},
   "outputs": [
    {
     "data": {
      "application/vnd.jupyter.widget-view+json": {
       "model_id": "fb7dfc1ba49b4f539f468051a8d671b6",
       "version_major": 2,
       "version_minor": 0
      },
      "text/plain": [
       "interactive(children=(FloatSlider(value=100.0, description='#Of Chars', max=17500.0, min=100.0, step=1.0), Out…"
      ]
     },
     "metadata": {},
     "output_type": "display_data"
    }
   ],
   "source": [
    "@interact(\n",
    "    r = FloatSlider(value=0.0, min=100.0, max=17500.0, step=1, description = \"#Of Chars\")\n",
    ")\n",
    "def plots(r):\n",
    "    x = df[df[\"body\"].apply(lambda x: len(x) > r)]\n",
    "    newp = np.mean(x['is_asshole']) \n",
    "    plt.scatter([1, 0], [newp, 1-newp], c = [\"Red\", \"Blue\"]);\n",
    "    plt.ylim([0, 1])\n",
    "    plt.xlim([-1, 2])\n",
    "    plt.xticks([1, 0], newp_df[\"Label\"])\n",
    "    plt.title(\"Do A-Holes Talk Too Much?\")"
   ]
  },
  {
   "cell_type": "markdown",
   "metadata": {
    "tags": []
   },
   "source": [
    "Conclusion? There may be some vague correlation, but it more likely seems as though neither of these variables\n",
    "have been very precise/accurate indicators of the likelihood of being voted an A-Hole"
   ]
  },
  {
   "cell_type": "code",
   "execution_count": null,
   "metadata": {},
   "outputs": [],
   "source": []
  }
 ],
 "metadata": {
  "kernelspec": {
   "display_name": "Python 3 (ipykernel)",
   "language": "python",
   "name": "python3"
  },
  "language_info": {
   "codemirror_mode": {
    "name": "ipython",
    "version": 3
   },
   "file_extension": ".py",
   "mimetype": "text/x-python",
   "name": "python",
   "nbconvert_exporter": "python",
   "pygments_lexer": "ipython3",
   "version": "3.8.13"
  },
  "vscode": {
   "interpreter": {
    "hash": "08e7c4807aa5c135e393f22af758a6cbb12a6c262705946c8872a4e9774e8d2b"
   }
  }
 },
 "nbformat": 4,
 "nbformat_minor": 4
}
